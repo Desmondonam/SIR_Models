{
 "cells": [
  {
   "cell_type": "markdown",
   "id": "c8ef86f6",
   "metadata": {},
   "source": [
    "In this project we are looking at the means in which we can analyse the data of the covid-19 that we are given so that we can be \n",
    "be able to create SIR models. Or goal in this project is to ensure that we can be able to come up with models. Not only that but \n",
    "the goal is to analyse the data by buliding SIR models to predict the deaths of this diseas. The infections and asses if vaccination\n",
    "had an effect in reducung these deaths. "
   ]
  },
  {
   "cell_type": "code",
   "execution_count": null,
   "id": "5e3a9ef5",
   "metadata": {},
   "outputs": [],
   "source": []
  }
 ],
 "metadata": {
  "kernelspec": {
   "display_name": "Python 3",
   "language": "python",
   "name": "python3"
  },
  "language_info": {
   "codemirror_mode": {
    "name": "ipython",
    "version": 3
   },
   "file_extension": ".py",
   "mimetype": "text/x-python",
   "name": "python",
   "nbconvert_exporter": "python",
   "pygments_lexer": "ipython3",
   "version": "3.8.8"
  }
 },
 "nbformat": 4,
 "nbformat_minor": 5
}
